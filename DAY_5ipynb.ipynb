{
  "nbformat": 4,
  "nbformat_minor": 0,
  "metadata": {
    "colab": {
      "provenance": []
    },
    "kernelspec": {
      "name": "python3",
      "display_name": "Python 3"
    },
    "language_info": {
      "name": "python"
    }
  },
  "cells": [
    {
      "cell_type": "code",
      "execution_count": null,
      "metadata": {
        "colab": {
          "base_uri": "https://localhost:8080/"
        },
        "id": "CDSjwbAk9CS_",
        "outputId": "2ba99d50-1a85-4dd5-e963-2a61d5eda3d0"
      },
      "outputs": [
        {
          "output_type": "stream",
          "name": "stdout",
          "text": [
            "[]\n"
          ]
        }
      ],
      "source": [
        "list=[]\n",
        "print(list)"
      ]
    },
    {
      "cell_type": "code",
      "source": [
        "list=['omkar','aboli','ajay','sahil','anand','ani']\n",
        "print(list)"
      ],
      "metadata": {
        "colab": {
          "base_uri": "https://localhost:8080/"
        },
        "id": "uHHHOf7B_cdm",
        "outputId": "c9021f03-cca7-4656-cfa2-fc1c2cbad94b"
      },
      "execution_count": null,
      "outputs": [
        {
          "output_type": "stream",
          "name": "stdout",
          "text": [
            "['omkar', 'aboli', 'ajay', 'sahil', 'anand', 'ani']\n"
          ]
        }
      ]
    },
    {
      "cell_type": "code",
      "source": [
        "print(len(list))"
      ],
      "metadata": {
        "colab": {
          "base_uri": "https://localhost:8080/"
        },
        "id": "0-22ij15_sAy",
        "outputId": "8f252014-933e-489d-c705-eb04f3ec5a02"
      },
      "execution_count": null,
      "outputs": [
        {
          "output_type": "stream",
          "name": "stdout",
          "text": [
            "6\n"
          ]
        }
      ]
    },
    {
      "cell_type": "code",
      "source": [
        "first=list[0]\n",
        "print(first)"
      ],
      "metadata": {
        "colab": {
          "base_uri": "https://localhost:8080/"
        },
        "id": "uoNEg3MJArwf",
        "outputId": "cc4679cd-2c69-4531-ebef-4c1a04953e90"
      },
      "execution_count": null,
      "outputs": [
        {
          "output_type": "stream",
          "name": "stdout",
          "text": [
            "omkar\n"
          ]
        }
      ]
    },
    {
      "cell_type": "code",
      "source": [
        "middle=list[len(list) // 2]\n",
        "print(middle)"
      ],
      "metadata": {
        "colab": {
          "base_uri": "https://localhost:8080/"
        },
        "id": "fKytHXdRBQrM",
        "outputId": "73db1e85-f42b-473e-e6e4-1035aa0d48eb"
      },
      "execution_count": null,
      "outputs": [
        {
          "output_type": "stream",
          "name": "stdout",
          "text": [
            "sahil\n"
          ]
        }
      ]
    },
    {
      "cell_type": "code",
      "source": [
        "last=list[-1]\n",
        "print(last)"
      ],
      "metadata": {
        "colab": {
          "base_uri": "https://localhost:8080/"
        },
        "id": "DHYA6ekfBdOs",
        "outputId": "e5603d94-b2b9-4556-daf8-2ab864db0597"
      },
      "execution_count": null,
      "outputs": [
        {
          "output_type": "stream",
          "name": "stdout",
          "text": [
            "ani\n"
          ]
        }
      ]
    },
    {
      "cell_type": "code",
      "source": [
        "list=['aboli','23','151.5','not married','mumbai']\n",
        "print(list)"
      ],
      "metadata": {
        "colab": {
          "base_uri": "https://localhost:8080/"
        },
        "id": "H0eB8M1TCO8z",
        "outputId": "34a53a42-e038-404c-9313-2404b7ce75ab"
      },
      "execution_count": null,
      "outputs": [
        {
          "output_type": "stream",
          "name": "stdout",
          "text": [
            "['aboli', '23', '151.5', 'not married', 'mumbai']\n"
          ]
        }
      ]
    },
    {
      "cell_type": "code",
      "source": [
        "It_companies = [\"Facebook\", \"Google\", \"Microsoft\", \"Apple\", \"IBM\", \"Oracle\", \"Amazon\"]\n",
        "print(It_companies)"
      ],
      "metadata": {
        "colab": {
          "base_uri": "https://localhost:8080/"
        },
        "id": "grjrzq-pWvj6",
        "outputId": "041e516e-7104-40b2-8f89-003c7ac6ba5f"
      },
      "execution_count": null,
      "outputs": [
        {
          "output_type": "stream",
          "name": "stdout",
          "text": [
            "['Facebook', 'Google', 'Microsoft', 'Apple', 'IBM', 'Oracle', 'Amazon']\n"
          ]
        }
      ]
    },
    {
      "cell_type": "code",
      "source": [],
      "metadata": {
        "id": "K9dT5Bp2XDeg"
      },
      "execution_count": null,
      "outputs": []
    }
  ]
}