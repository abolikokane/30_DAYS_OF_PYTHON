{
  "nbformat": 4,
  "nbformat_minor": 0,
  "metadata": {
    "colab": {
      "provenance": []
    },
    "kernelspec": {
      "name": "python3",
      "display_name": "Python 3"
    },
    "language_info": {
      "name": "python"
    }
  },
  "cells": [
    {
      "cell_type": "code",
      "execution_count": null,
      "metadata": {
        "colab": {
          "base_uri": "https://localhost:8080/"
        },
        "id": "f-xmzABiRbZe",
        "outputId": "ed6031ee-f405-45e0-9b0f-adb05cc75974"
      },
      "outputs": [
        {
          "output_type": "stream",
          "name": "stdout",
          "text": [
            " Thirty  Days  Of  Python \n"
          ]
        }
      ],
      "source": [
        "#1\n",
        "a=' Thirty '\n",
        "b=' Days '\n",
        "c=' Of '\n",
        "d=' Python '\n",
        "e=a +b +c + d\n",
        "print(e)"
      ]
    },
    {
      "cell_type": "code",
      "source": [
        "#2\n",
        "a='Coding'\n",
        "space=' '\n",
        "b='For'\n",
        "space=' '\n",
        "c='All'\n",
        "d=a + space + b + space + c\n",
        "print(d)"
      ],
      "metadata": {
        "colab": {
          "base_uri": "https://localhost:8080/"
        },
        "id": "jY-TZiYubAK1",
        "outputId": "5639333d-9a76-4246-e090-f90e042e5730"
      },
      "execution_count": null,
      "outputs": [
        {
          "output_type": "stream",
          "name": "stdout",
          "text": [
            "Coding For All\n"
          ]
        }
      ]
    },
    {
      "cell_type": "code",
      "source": [
        "#3\n",
        "company='Coding_For_All'\n",
        "print(company)\n"
      ],
      "metadata": {
        "colab": {
          "base_uri": "https://localhost:8080/"
        },
        "id": "keolfUjibnzM",
        "outputId": "0ed901b2-9398-4d8e-e78c-c345d173a88d"
      },
      "execution_count": null,
      "outputs": [
        {
          "output_type": "stream",
          "name": "stdout",
          "text": [
            "Coding_For_All\n"
          ]
        }
      ]
    },
    {
      "cell_type": "code",
      "source": [
        "#4\n",
        "variable='company'\n",
        "print(variable)"
      ],
      "metadata": {
        "colab": {
          "base_uri": "https://localhost:8080/"
        },
        "id": "xhWXIreBduiM",
        "outputId": "52d6b8d6-b8a9-4e16-dfec-e31705e5a527"
      },
      "execution_count": null,
      "outputs": [
        {
          "output_type": "stream",
          "name": "stdout",
          "text": [
            "company\n"
          ]
        }
      ]
    },
    {
      "cell_type": "code",
      "source": [
        "#5\n",
        "a='company'\n",
        "print(len(a))"
      ],
      "metadata": {
        "colab": {
          "base_uri": "https://localhost:8080/"
        },
        "id": "SeeI92sTeJMO",
        "outputId": "dfbd8e3d-a97b-4204-c831-49a07294a43f"
      },
      "execution_count": null,
      "outputs": [
        {
          "output_type": "stream",
          "name": "stdout",
          "text": [
            "7\n"
          ]
        }
      ]
    },
    {
      "cell_type": "code",
      "source": [
        "#6\n",
        "myself= 'my name is aboli'\n",
        "print(myself.upper())"
      ],
      "metadata": {
        "colab": {
          "base_uri": "https://localhost:8080/"
        },
        "id": "e1HRgTaZeXTu",
        "outputId": "e871828d-3ca7-4e8d-ddec-24f84243cf6a"
      },
      "execution_count": null,
      "outputs": [
        {
          "output_type": "stream",
          "name": "stdout",
          "text": [
            "MY NAME IS ABOLI\n"
          ]
        }
      ]
    },
    {
      "cell_type": "code",
      "source": [
        "#7\n",
        "MYSELF='MY NAME IS ABOLI'\n",
        "print(myself.lower())"
      ],
      "metadata": {
        "colab": {
          "base_uri": "https://localhost:8080/"
        },
        "id": "MeMcpjxsfZCY",
        "outputId": "f0538271-49c3-4574-a3b3-165ddc73a1c4"
      },
      "execution_count": null,
      "outputs": [
        {
          "output_type": "stream",
          "name": "stdout",
          "text": [
            "my name is aboli\n"
          ]
        }
      ]
    },
    {
      "cell_type": "code",
      "source": [
        "#8\n",
        "a='Coding For All'\n",
        "print(a.capitalize())\n",
        "print(a.swapcase())\n",
        "print(a.title())\n"
      ],
      "metadata": {
        "colab": {
          "base_uri": "https://localhost:8080/"
        },
        "id": "xHH9VJC6flab",
        "outputId": "e5ca0336-f43e-4d6e-a015-38ced8445a27"
      },
      "execution_count": null,
      "outputs": [
        {
          "output_type": "stream",
          "name": "stdout",
          "text": [
            "Coding for all\n",
            "cODING fOR aLL\n",
            "Coding For All\n"
          ]
        }
      ]
    },
    {
      "cell_type": "code",
      "source": [
        "#9\n",
        "string='Coding For All'\n",
        "first=string[6:14]\n",
        "print(first)"
      ],
      "metadata": {
        "colab": {
          "base_uri": "https://localhost:8080/"
        },
        "id": "Uwg0T_8aftZI",
        "outputId": "93b9c159-a123-4886-a1a8-a7e4e715a709"
      },
      "execution_count": null,
      "outputs": [
        {
          "output_type": "stream",
          "name": "stdout",
          "text": [
            " For All\n"
          ]
        }
      ]
    },
    {
      "cell_type": "code",
      "source": [
        "#10\n",
        "string='Coding for all'\n",
        "print(string.find('for'))\n",
        "\n",
        "print(string.index('for'))"
      ],
      "metadata": {
        "colab": {
          "base_uri": "https://localhost:8080/"
        },
        "id": "Ala-Cse9iiwO",
        "outputId": "d266ac65-3b75-4acc-ad68-7d9216340578"
      },
      "execution_count": null,
      "outputs": [
        {
          "output_type": "stream",
          "name": "stdout",
          "text": [
            "7\n",
            "7\n"
          ]
        }
      ]
    },
    {
      "cell_type": "code",
      "source": [
        "from os import replace\n",
        "#11\n",
        "a='coding for all'\n",
        "b='python'\n",
        "b=a.replace('coding for all','python')\n",
        "print(b)"
      ],
      "metadata": {
        "colab": {
          "base_uri": "https://localhost:8080/"
        },
        "id": "7yAZFKzpftS1",
        "outputId": "feb80a18-ce6b-4096-8b2f-1da37e1e5e7c"
      },
      "execution_count": null,
      "outputs": [
        {
          "output_type": "stream",
          "name": "stdout",
          "text": [
            "python\n"
          ]
        }
      ]
    },
    {
      "cell_type": "code",
      "source": [
        "#12\n",
        "text='python for everyone'\n",
        "replaced_text='python for all'\n",
        "replaced_text=text.replace('python for everyone','python for all')\n",
        "print(replaced_text)"
      ],
      "metadata": {
        "colab": {
          "base_uri": "https://localhost:8080/"
        },
        "id": "uj-ZLV5CftNZ",
        "outputId": "0e78403f-d246-46d2-c100-4aee0a8c7795"
      },
      "execution_count": null,
      "outputs": [
        {
          "output_type": "stream",
          "name": "stdout",
          "text": [
            "python for all\n"
          ]
        }
      ]
    },
    {
      "cell_type": "code",
      "source": [
        "#13\n",
        "a='coding for all'\n",
        "print(a.split())"
      ],
      "metadata": {
        "colab": {
          "base_uri": "https://localhost:8080/"
        },
        "id": "JloNdu3fwssC",
        "outputId": "7362e019-cdd5-4706-a4f4-e0e73657ec3c"
      },
      "execution_count": null,
      "outputs": [
        {
          "output_type": "stream",
          "name": "stdout",
          "text": [
            "['coding', 'for', 'all']\n"
          ]
        }
      ]
    },
    {
      "cell_type": "code",
      "source": [
        "#14\n",
        "b=\"Facebook, Google, Microsoft, Apple, IBM, Oracle, Amazon\"\n",
        "print(b.split())"
      ],
      "metadata": {
        "colab": {
          "base_uri": "https://localhost:8080/"
        },
        "id": "GDptQkyTyElg",
        "outputId": "cdd2ec28-40b0-4a5a-a531-00e9c975fc51"
      },
      "execution_count": null,
      "outputs": [
        {
          "output_type": "stream",
          "name": "stdout",
          "text": [
            "['Facebook,', 'Google,', 'Microsoft,', 'Apple,', 'IBM,', 'Oracle,', 'Amazon']\n"
          ]
        }
      ]
    },
    {
      "cell_type": "code",
      "source": [
        "#15\n",
        "a='coding for all'\n",
        "b=a.index('o')\n",
        "print(b)"
      ],
      "metadata": {
        "colab": {
          "base_uri": "https://localhost:8080/"
        },
        "id": "sqHG3IU7ftGg",
        "outputId": "edfa5776-508d-446b-f55d-ae69891ad67e"
      },
      "execution_count": null,
      "outputs": [
        {
          "output_type": "stream",
          "name": "stdout",
          "text": [
            "1\n"
          ]
        }
      ]
    },
    {
      "cell_type": "code",
      "source": [
        "#16\n",
        "a='coding for all'\n",
        "b=a[11:14]\n",
        "print(b)"
      ],
      "metadata": {
        "colab": {
          "base_uri": "https://localhost:8080/"
        },
        "id": "Gow8iE17fs7j",
        "outputId": "5c3e9dce-517f-42aa-ae89-dcd397e8a9a0"
      },
      "execution_count": null,
      "outputs": [
        {
          "output_type": "stream",
          "name": "stdout",
          "text": [
            "all\n"
          ]
        }
      ]
    },
    {
      "cell_type": "code",
      "source": [
        "#17\n",
        "a='coding_for_all'\n",
        "b=a[10]\n",
        "print(b)\n",
        " "
      ],
      "metadata": {
        "colab": {
          "base_uri": "https://localhost:8080/"
        },
        "id": "U0p3dG8x12IZ",
        "outputId": "e8d24f0a-d63b-48f8-f6cb-0be13fbfe02a"
      },
      "execution_count": null,
      "outputs": [
        {
          "output_type": "stream",
          "name": "stdout",
          "text": [
            "_\n"
          ]
        }
      ]
    },
    {
      "cell_type": "code",
      "source": [
        "#18\n",
        "def create_acronym(string):\n",
        "    return ''.join(word[0].upper() for word in string.split())\n",
        "\n",
        "string = \"Python For Everyone\"\n",
        "print(create_acronym(string))"
      ],
      "metadata": {
        "colab": {
          "base_uri": "https://localhost:8080/"
        },
        "id": "avE7axO62-_T",
        "outputId": "b1c208e2-5ce5-4657-e5e9-81a0fe53031f"
      },
      "execution_count": null,
      "outputs": [
        {
          "output_type": "stream",
          "name": "stdout",
          "text": [
            "PFE\n"
          ]
        }
      ]
    },
    {
      "cell_type": "code",
      "source": [
        "#19\n",
        "def create_acronym(string):\n",
        "    return ''.join(word[0].upper() for word in string.split())\n",
        "\n",
        "string = \"Coding For All\"\n",
        "print(create_acronym(string))    "
      ],
      "metadata": {
        "colab": {
          "base_uri": "https://localhost:8080/"
        },
        "id": "jc4pt-f-2-01",
        "outputId": "df3c83b2-199d-49ac-808d-5c26ffee0317"
      },
      "execution_count": null,
      "outputs": [
        {
          "output_type": "stream",
          "name": "stdout",
          "text": [
            "CFA\n"
          ]
        }
      ]
    },
    {
      "cell_type": "code",
      "source": [
        "#20\n",
        "a = \"Coding For All\"\n",
        "position = a.index(\"C\")\n",
        "print(position)"
      ],
      "metadata": {
        "colab": {
          "base_uri": "https://localhost:8080/"
        },
        "id": "yjzKqUif2Wl1",
        "outputId": "e66424c5-09e1-409e-d96e-3ee178b5f598"
      },
      "execution_count": null,
      "outputs": [
        {
          "output_type": "stream",
          "name": "stdout",
          "text": [
            "0\n"
          ]
        }
      ]
    },
    {
      "cell_type": "code",
      "source": [
        "#21\n",
        "b=\"coding for all\"\n",
        "position=b.index(\"f\")\n",
        "print(position)"
      ],
      "metadata": {
        "colab": {
          "base_uri": "https://localhost:8080/"
        },
        "id": "Mf2GlbSv3De8",
        "outputId": "0e7847b1-269f-4c3f-bc37-38f54bf87f07"
      },
      "execution_count": null,
      "outputs": [
        {
          "output_type": "stream",
          "name": "stdout",
          "text": [
            "7\n"
          ]
        }
      ]
    },
    {
      "cell_type": "code",
      "source": [
        "#22\n",
        "a=\"coding for all people\"\n",
        "b=a.rfind(\"l\")\n",
        "print(b)"
      ],
      "metadata": {
        "colab": {
          "base_uri": "https://localhost:8080/"
        },
        "id": "xTgpuzzj3DY8",
        "outputId": "c60f2198-e0b2-444c-95c0-2313659a4715"
      },
      "execution_count": null,
      "outputs": [
        {
          "output_type": "stream",
          "name": "stdout",
          "text": [
            "19\n"
          ]
        }
      ]
    },
    {
      "cell_type": "code",
      "source": [
        "#23\n",
        "command=\"You cannot end a sentence with because because because is a conjunction\"\n",
        "find=command.find(\"because\")\n",
        "print(find)"
      ],
      "metadata": {
        "colab": {
          "base_uri": "https://localhost:8080/"
        },
        "id": "qoCDHZfn8LOc",
        "outputId": "c83d7cc0-f485-4402-eb00-2c960fabd9b0"
      },
      "execution_count": null,
      "outputs": [
        {
          "output_type": "stream",
          "name": "stdout",
          "text": [
            "31\n"
          ]
        }
      ]
    },
    {
      "cell_type": "code",
      "source": [
        "#24\n",
        "command= 'You cannot end a sentence with because because because is a conjunction'\n",
        "find=command.rfind(\"because\")\n",
        "print(find)"
      ],
      "metadata": {
        "colab": {
          "base_uri": "https://localhost:8080/"
        },
        "id": "PzoGVOxO8-I9",
        "outputId": "0f12a387-04ff-4e85-9716-e3195224f279"
      },
      "execution_count": null,
      "outputs": [
        {
          "output_type": "stream",
          "name": "stdout",
          "text": [
            "47\n"
          ]
        }
      ]
    },
    {
      "cell_type": "code",
      "source": [
        "#25\n",
        "sentence = \"You cannot end a sentence with because because because is a conjunction\"\n",
        "start = sentence.find(\"because\")\n",
        "end = start + len(\"because because because\")\n",
        "phrase = sentence[start:end]\n",
        "print(phrase)\n"
      ],
      "metadata": {
        "colab": {
          "base_uri": "https://localhost:8080/"
        },
        "id": "unTqWYeY9XqE",
        "outputId": "e69e42d2-8601-47a3-e023-0302751e602b"
      },
      "execution_count": null,
      "outputs": [
        {
          "output_type": "stream",
          "name": "stdout",
          "text": [
            "because because because\n"
          ]
        }
      ]
    },
    {
      "cell_type": "code",
      "source": [
        "#26\n",
        "sentence='You cannot end a sentence with because because because is a conjunction'\n",
        "find=sentence.index('because')\n",
        "print(find)"
      ],
      "metadata": {
        "colab": {
          "base_uri": "https://localhost:8080/"
        },
        "id": "-qAyl1Qw_A8T",
        "outputId": "5ece931e-2c79-4e40-86f8-52dcd9aab793"
      },
      "execution_count": null,
      "outputs": [
        {
          "output_type": "stream",
          "name": "stdout",
          "text": [
            "31\n"
          ]
        }
      ]
    },
    {
      "cell_type": "code",
      "source": [
        "#27\n",
        "sentence = \"You cannot end a sentence with because because because is a conjunction\"\n",
        "start = sentence.find(\"because\")\n",
        "end = start + len(\"because because because\")\n",
        "phrase = sentence[start:end]\n",
        "print(phrase)\n"
      ],
      "metadata": {
        "colab": {
          "base_uri": "https://localhost:8080/"
        },
        "id": "NciIctLo_uQo",
        "outputId": "e2b38c9e-ab6a-4b13-bd7a-42ce834c6574"
      },
      "execution_count": null,
      "outputs": [
        {
          "output_type": "stream",
          "name": "stdout",
          "text": [
            "because because because\n"
          ]
        }
      ]
    },
    {
      "cell_type": "code",
      "source": [
        "#28\n",
        "a='coding for all'\n",
        "print(a.startswith('coding'))\n"
      ],
      "metadata": {
        "colab": {
          "base_uri": "https://localhost:8080/"
        },
        "id": "wofbQoCM_5e1",
        "outputId": "58027d2f-da96-47a4-91fe-0ebd50e87805"
      },
      "execution_count": null,
      "outputs": [
        {
          "output_type": "stream",
          "name": "stdout",
          "text": [
            "True\n"
          ]
        }
      ]
    },
    {
      "cell_type": "code",
      "source": [
        "#29\n",
        "b='coding for all'\n",
        "print(b.endswith('coding'))"
      ],
      "metadata": {
        "colab": {
          "base_uri": "https://localhost:8080/"
        },
        "id": "baQkklwYb3wC",
        "outputId": "37d366d2-c00e-4f97-b41b-55b207037f25"
      },
      "execution_count": null,
      "outputs": [
        {
          "output_type": "stream",
          "name": "stdout",
          "text": [
            "False\n"
          ]
        }
      ]
    },
    {
      "cell_type": "code",
      "source": [
        "#30\n",
        "s = '   Coding For All        '\n",
        "a = s.strip()\n",
        "print(a)\n"
      ],
      "metadata": {
        "colab": {
          "base_uri": "https://localhost:8080/"
        },
        "id": "v6VtIcOxcKKz",
        "outputId": "94758e92-40d9-4cd3-df99-48c81b3f5a38"
      },
      "execution_count": null,
      "outputs": [
        {
          "output_type": "stream",
          "name": "stdout",
          "text": [
            "Coding For All\n"
          ]
        }
      ]
    },
    {
      "cell_type": "code",
      "source": [
        "#31(a)\n",
        "a='30DaysOfPython'\n",
        "a1=a.isidentifier()\n",
        "print(a1)"
      ],
      "metadata": {
        "colab": {
          "base_uri": "https://localhost:8080/"
        },
        "id": "mSqhiaobdOiV",
        "outputId": "85248710-0b99-4d14-d77a-8a7468b54ba8"
      },
      "execution_count": null,
      "outputs": [
        {
          "output_type": "stream",
          "name": "stdout",
          "text": [
            "False\n"
          ]
        }
      ]
    },
    {
      "cell_type": "code",
      "source": [
        "#31(b)\n",
        "b=\"thirty_days_of_python\"\n",
        "b1=b.isidentifier()\n",
        "print(b1)"
      ],
      "metadata": {
        "colab": {
          "base_uri": "https://localhost:8080/"
        },
        "id": "m4jBmJTId3Fs",
        "outputId": "9f8e4536-fdef-43e1-f18f-aa6ccfc6caf7"
      },
      "execution_count": null,
      "outputs": [
        {
          "output_type": "stream",
          "name": "stdout",
          "text": [
            "True\n"
          ]
        }
      ]
    },
    {
      "cell_type": "code",
      "source": [
        "#32\n",
        "list=['Django', 'Flask', 'Bottle', 'Pyramid', 'Falcon']\n",
        "list1=\"#\".join(list)\n",
        "print(list1)"
      ],
      "metadata": {
        "colab": {
          "base_uri": "https://localhost:8080/"
        },
        "id": "pMqkZPX4eDRR",
        "outputId": "5d54b66c-6f94-4b95-905e-307f9d3292ee"
      },
      "execution_count": null,
      "outputs": [
        {
          "output_type": "stream",
          "name": "stdout",
          "text": [
            "Django#Flask#Bottle#Pyramid#Falcon\n"
          ]
        }
      ]
    },
    {
      "cell_type": "code",
      "source": [
        "#33\n",
        "print(\"I am enjoying this challenge.\\nI just wonder what is next.\")"
      ],
      "metadata": {
        "colab": {
          "base_uri": "https://localhost:8080/"
        },
        "id": "FX7VmZcee3JT",
        "outputId": "630fb2dc-5934-4c09-b7ca-69aab4ed4016"
      },
      "execution_count": null,
      "outputs": [
        {
          "output_type": "stream",
          "name": "stdout",
          "text": [
            "I am enjoying this challenge.\n",
            "I just wonder what is next.\n"
          ]
        }
      ]
    },
    {
      "cell_type": "code",
      "source": [
        "#34\n",
        "print(\"Name\\tAge\\tCountry\\tCity\")\n",
        "print(\"Asabeneh\\t250\\tFinland\\tHelsinki\")"
      ],
      "metadata": {
        "colab": {
          "base_uri": "https://localhost:8080/"
        },
        "id": "PKLANOsHfJYA",
        "outputId": "b7bac6eb-ffd5-4ede-b410-a740b9e2644c"
      },
      "execution_count": null,
      "outputs": [
        {
          "output_type": "stream",
          "name": "stdout",
          "text": [
            "Name\tAge\tCountry\tCity\n",
            "Asabeneh\t250\tFinland\tHelsinki\n"
          ]
        }
      ]
    },
    {
      "cell_type": "code",
      "source": [
        "#35\n",
        "r= 10\n",
        "area=3.14*r**2\n",
        "print(f\"The area of a circle with radius {r} is {area} meters square\")\n"
      ],
      "metadata": {
        "colab": {
          "base_uri": "https://localhost:8080/"
        },
        "id": "lVl8HY2ffaGY",
        "outputId": "656926bd-d0ad-4d10-b151-57a091060d7a"
      },
      "execution_count": null,
      "outputs": [
        {
          "output_type": "stream",
          "name": "stdout",
          "text": [
            "The area of a circle with radius 10 is 314.0 meters square\n"
          ]
        }
      ]
    },
    {
      "cell_type": "code",
      "source": [
        "#36\n",
        "print(f\"8 + 6 = {8 + 6}\")\n",
        "print(f\"8 - 6 = {8 - 6}\")\n",
        "print(f\"8 * 6 = {8 * 6}\")\n",
        "print(f\"8 / 6 = {8 / 6:.2f}\")\n",
        "print(f\"8 % 6 = {8 % 6}\")\n",
        "print(f\"8 // 6 = {8 // 6}\")\n",
        "print(f\"8 ** 6 = {8 ** 6}\")"
      ],
      "metadata": {
        "colab": {
          "base_uri": "https://localhost:8080/"
        },
        "id": "SYMmoOIggHxR",
        "outputId": "77413e4e-4648-40db-bd03-9368ee5e7368"
      },
      "execution_count": null,
      "outputs": [
        {
          "output_type": "stream",
          "name": "stdout",
          "text": [
            "8 + 6 = 14\n",
            "8 - 6 = 2\n",
            "8 * 6 = 48\n",
            "8 / 6 = 1.33\n",
            "8 % 6 = 2\n",
            "8 // 6 = 1\n",
            "8 ** 6 = 262144\n"
          ]
        }
      ]
    }
  ]
}