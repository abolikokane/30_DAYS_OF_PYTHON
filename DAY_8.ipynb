{
  "nbformat": 4,
  "nbformat_minor": 0,
  "metadata": {
    "colab": {
      "provenance": []
    },
    "kernelspec": {
      "name": "python3",
      "display_name": "Python 3"
    },
    "language_info": {
      "name": "python"
    }
  },
  "cells": [
    {
      "cell_type": "code",
      "execution_count": 1,
      "metadata": {
        "colab": {
          "base_uri": "https://localhost:8080/"
        },
        "id": "sSxocTNycr32",
        "outputId": "6498a99c-60bc-4211-c0a8-b1c95e956ee7"
      },
      "outputs": [
        {
          "output_type": "stream",
          "name": "stdout",
          "text": [
            "{'dog'}\n"
          ]
        }
      ],
      "source": [
        "dict={'dog'}\n",
        "print(dict)"
      ]
    },
    {
      "cell_type": "code",
      "source": [
        "dict={'name':'sushi','color':'cream','breed':'golden retriever','legs':'4','age':'5'}\n",
        "print(dict)"
      ],
      "metadata": {
        "colab": {
          "base_uri": "https://localhost:8080/"
        },
        "id": "ZpsXI9zNdoQ5",
        "outputId": "dbdabe21-a212-4e23-af0a-d6649a48b6ad"
      },
      "execution_count": 2,
      "outputs": [
        {
          "output_type": "stream",
          "name": "stdout",
          "text": [
            "{'name': 'sushi', 'color': 'cream', 'breed': 'golden retriever', 'legs': '4', 'age': '5'}\n"
          ]
        }
      ]
    },
    {
      "cell_type": "code",
      "source": [
        "student_dictionary={'first_name':'aboli','last_name':'kokane','gender':'female','age':'23','marital_status':'not_married','skills':['python,tableau'],'country':'india','city':'mumbai','address':'mumbai'}\n",
        "print(student_dictionary)"
      ],
      "metadata": {
        "colab": {
          "base_uri": "https://localhost:8080/"
        },
        "id": "Te39gq5afByr",
        "outputId": "8c88002e-3bca-445d-9467-4f11abcec9da"
      },
      "execution_count": 5,
      "outputs": [
        {
          "output_type": "stream",
          "name": "stdout",
          "text": [
            "{'first_name': 'aboli', 'last_name': 'kokane', 'gender': 'female', 'age': '23', 'marital_status': 'not_married', 'skills': ['python,tableau'], 'country': 'india', 'city': 'mumbai', 'address': 'mumbai'}\n"
          ]
        }
      ]
    },
    {
      "cell_type": "code",
      "source": [
        "print(len(student_dictionary))\n"
      ],
      "metadata": {
        "colab": {
          "base_uri": "https://localhost:8080/"
        },
        "id": "SUzCwLIYhXUM",
        "outputId": "fad1a4ed-34f2-4a5c-fd29-f85509aec2fa"
      },
      "execution_count": 6,
      "outputs": [
        {
          "output_type": "stream",
          "name": "stdout",
          "text": [
            "9\n"
          ]
        }
      ]
    },
    {
      "cell_type": "code",
      "source": [
        "skills=student_dictionary['skills']\n",
        "print(skills)\n",
        "print(type(skills))"
      ],
      "metadata": {
        "colab": {
          "base_uri": "https://localhost:8080/"
        },
        "id": "kwK0pGJBh4nV",
        "outputId": "c3caf2e7-caad-474a-a36e-95238d57d6c8"
      },
      "execution_count": 8,
      "outputs": [
        {
          "output_type": "stream",
          "name": "stdout",
          "text": [
            "['python,tableau']\n",
            "<class 'list'>\n"
          ]
        }
      ]
    },
    {
      "cell_type": "code",
      "source": [
        "print(student_dictionary)\n",
        "\n",
        "student_dictionary['skills'].extend(['c++','SQL'])\n",
        "print(skills)"
      ],
      "metadata": {
        "colab": {
          "base_uri": "https://localhost:8080/"
        },
        "id": "g4sj2PotiXcN",
        "outputId": "68f873d5-dab0-4e2b-86aa-64b60c36a66a"
      },
      "execution_count": 16,
      "outputs": [
        {
          "output_type": "stream",
          "name": "stdout",
          "text": [
            "{'first_name': 'aboli', 'last_name': 'kokane', 'gender': 'female', 'age': '23', 'marital_status': 'not_married', 'skills': ['python,tableau', 'c++', 'SQL', 'c++', 'SQL', 'c++', 'SQL'], 'country': 'india', 'city': 'mumbai', 'address': 'mumbai'}\n",
            "None\n"
          ]
        }
      ]
    },
    {
      "cell_type": "code",
      "source": [
        "keys=list(student_dictionary)\n",
        "print(keys)"
      ],
      "metadata": {
        "colab": {
          "base_uri": "https://localhost:8080/"
        },
        "id": "V7SjeW2ojz7-",
        "outputId": "002d058d-a541-4548-deb7-4c219ed1d150"
      },
      "execution_count": 18,
      "outputs": [
        {
          "output_type": "stream",
          "name": "stdout",
          "text": [
            "['first_name', 'last_name', 'gender', 'age', 'marital_status', 'skills', 'country', 'city', 'address']\n"
          ]
        }
      ]
    },
    {
      "cell_type": "code",
      "source": [
        "values=list(student_dictionary.values())\n",
        "print(values)"
      ],
      "metadata": {
        "colab": {
          "base_uri": "https://localhost:8080/"
        },
        "id": "21Hj4dSbkSbJ",
        "outputId": "4962ac0a-1642-434b-fae4-97ed34e6470e"
      },
      "execution_count": 20,
      "outputs": [
        {
          "output_type": "stream",
          "name": "stdout",
          "text": [
            "['aboli', 'kokane', 'female', '23', 'not_married', ['python,tableau', 'c++', 'SQL', 'c++', 'SQL', 'c++', 'SQL', 'c++', 'SQL'], 'india', 'mumbai', 'mumbai']\n"
          ]
        }
      ]
    },
    {
      "cell_type": "code",
      "source": [
        "student_dictionary=list(student_dictionary.items())\n",
        "print(student_dictionary)"
      ],
      "metadata": {
        "colab": {
          "base_uri": "https://localhost:8080/"
        },
        "id": "9KDoGzRckbD7",
        "outputId": "de6d3da6-73d6-48f5-d9ba-755d9631b491"
      },
      "execution_count": 22,
      "outputs": [
        {
          "output_type": "stream",
          "name": "stdout",
          "text": [
            "[('first_name', 'aboli'), ('last_name', 'kokane'), ('gender', 'female'), ('age', '23'), ('marital_status', 'not_married'), ('skills', ['python,tableau', 'c++', 'SQL', 'c++', 'SQL', 'c++', 'SQL', 'c++', 'SQL']), ('country', 'india'), ('city', 'mumbai'), ('address', 'mumbai')]\n"
          ]
        }
      ]
    },
    {
      "cell_type": "code",
      "source": [
        "student_dictionary={'first_name':'aboli','last_name':'kokane','gender':'female','age':'23','marital_status':'not_married','skills':['python,tableau'],'country':'india','city':'mumbai','address':'mumbai'}\n",
        "print(student_dictionary)\n",
        "del student_dictionary['country']\n",
        "print(student_dictionary)"
      ],
      "metadata": {
        "colab": {
          "base_uri": "https://localhost:8080/"
        },
        "id": "wGaZPPIQmFWU",
        "outputId": "642b6deb-a344-4369-da1b-5b3822be95dd"
      },
      "execution_count": 32,
      "outputs": [
        {
          "output_type": "stream",
          "name": "stdout",
          "text": [
            "{'first_name': 'aboli', 'last_name': 'kokane', 'gender': 'female', 'age': '23', 'marital_status': 'not_married', 'skills': ['python,tableau'], 'country': 'india', 'city': 'mumbai', 'address': 'mumbai'}\n",
            "{'first_name': 'aboli', 'last_name': 'kokane', 'gender': 'female', 'age': '23', 'marital_status': 'not_married', 'skills': ['python,tableau'], 'city': 'mumbai', 'address': 'mumbai'}\n"
          ]
        }
      ]
    },
    {
      "cell_type": "code",
      "source": [
        "del dict\n"
      ],
      "metadata": {
        "id": "MRCcaOvGm_c4"
      },
      "execution_count": 33,
      "outputs": []
    }
  ]
}