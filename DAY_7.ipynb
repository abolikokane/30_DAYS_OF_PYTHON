{
  "nbformat": 4,
  "nbformat_minor": 0,
  "metadata": {
    "colab": {
      "provenance": []
    },
    "kernelspec": {
      "name": "python3",
      "display_name": "Python 3"
    },
    "language_info": {
      "name": "python"
    }
  },
  "cells": [
    {
      "cell_type": "code",
      "source": [
        "#level 1\n"
      ],
      "metadata": {
        "id": "unbytFJ-1U_P"
      },
      "execution_count": null,
      "outputs": []
    },
    {
      "cell_type": "code",
      "execution_count": 1,
      "metadata": {
        "colab": {
          "base_uri": "https://localhost:8080/"
        },
        "id": "zSYoHaKew_t6",
        "outputId": "ecf45264-7d86-4ae8-ccda-942397019f2d"
      },
      "outputs": [
        {
          "output_type": "stream",
          "name": "stdout",
          "text": [
            "7\n"
          ]
        }
      ],
      "source": [
        "it_companies = {'Facebook', 'Google', 'Microsoft', 'Apple', 'IBM', 'Oracle', 'Amazon'}\n",
        "print(len(it_companies))"
      ]
    },
    {
      "cell_type": "code",
      "source": [
        "it_companies.add('Twitter')\n",
        "print(it_companies)"
      ],
      "metadata": {
        "colab": {
          "base_uri": "https://localhost:8080/"
        },
        "id": "DGHYaNHPxTkp",
        "outputId": "bee45d13-988a-4662-ade3-174fdee53159"
      },
      "execution_count": 9,
      "outputs": [
        {
          "output_type": "stream",
          "name": "stdout",
          "text": [
            "{'Microsoft', 'Apple', 'Twitter', 'Google', 'IBM', 'Facebook', 'Oracle', 'Amazon'}\n"
          ]
        }
      ]
    },
    {
      "cell_type": "code",
      "source": [
        "it_companies = {'Google', 'Facebook', 'Apple', 'Amazon'}\n",
        "it_companies |= {'Twitter', 'LinkedIn', 'Uber', 'Dropbox'}\n",
        "print(it_companies)\n",
        "\n"
      ],
      "metadata": {
        "colab": {
          "base_uri": "https://localhost:8080/"
        },
        "id": "GvObcXc3yyI0",
        "outputId": "b8045944-365e-42dd-ba3b-6941d82e7758"
      },
      "execution_count": 10,
      "outputs": [
        {
          "output_type": "stream",
          "name": "stdout",
          "text": [
            "{'Dropbox', 'Apple', 'Twitter', 'Google', 'LinkedIn', 'Facebook', 'Uber', 'Amazon'}\n"
          ]
        }
      ]
    },
    {
      "cell_type": "code",
      "source": [
        "it_companies.remove('Facebook')\n",
        "print(it_companies)"
      ],
      "metadata": {
        "colab": {
          "base_uri": "https://localhost:8080/"
        },
        "id": "lFJDVAkgzsgZ",
        "outputId": "c3411766-b88a-43af-c935-18c7bd380061"
      },
      "execution_count": 15,
      "outputs": [
        {
          "output_type": "stream",
          "name": "stdout",
          "text": [
            "{'Dropbox', 'Apple', 'Twitter', 'Google', 'LinkedIn', 'Uber', 'Amazon'}\n"
          ]
        }
      ]
    },
    {
      "cell_type": "code",
      "source": [
        "#discard\n",
        "s = {1, 2, 3}\n",
        "s.remove(2)   \n",
        "s.remove(4) "
      ],
      "metadata": {
        "colab": {
          "base_uri": "https://localhost:8080/",
          "height": 200
        },
        "id": "9h2uvVn90WOp",
        "outputId": "6f9347c1-9959-4903-fc97-4e66ae98d009"
      },
      "execution_count": 16,
      "outputs": [
        {
          "output_type": "error",
          "ename": "KeyError",
          "evalue": "ignored",
          "traceback": [
            "\u001b[0;31m---------------------------------------------------------------------------\u001b[0m",
            "\u001b[0;31mKeyError\u001b[0m                                  Traceback (most recent call last)",
            "\u001b[0;32m<ipython-input-16-a2f62f3c7ae4>\u001b[0m in \u001b[0;36m<module>\u001b[0;34m\u001b[0m\n\u001b[1;32m      2\u001b[0m \u001b[0ms\u001b[0m \u001b[0;34m=\u001b[0m \u001b[0;34m{\u001b[0m\u001b[0;36m1\u001b[0m\u001b[0;34m,\u001b[0m \u001b[0;36m2\u001b[0m\u001b[0;34m,\u001b[0m \u001b[0;36m3\u001b[0m\u001b[0;34m}\u001b[0m\u001b[0;34m\u001b[0m\u001b[0;34m\u001b[0m\u001b[0m\n\u001b[1;32m      3\u001b[0m \u001b[0ms\u001b[0m\u001b[0;34m.\u001b[0m\u001b[0mremove\u001b[0m\u001b[0;34m(\u001b[0m\u001b[0;36m2\u001b[0m\u001b[0;34m)\u001b[0m\u001b[0;34m\u001b[0m\u001b[0;34m\u001b[0m\u001b[0m\n\u001b[0;32m----> 4\u001b[0;31m \u001b[0ms\u001b[0m\u001b[0;34m.\u001b[0m\u001b[0mremove\u001b[0m\u001b[0;34m(\u001b[0m\u001b[0;36m4\u001b[0m\u001b[0;34m)\u001b[0m\u001b[0;34m\u001b[0m\u001b[0;34m\u001b[0m\u001b[0m\n\u001b[0m",
            "\u001b[0;31mKeyError\u001b[0m: 4"
          ]
        }
      ]
    },
    {
      "cell_type": "markdown",
      "source": [
        "## discard() method does not raise any error if the element is not in the set"
      ],
      "metadata": {
        "id": "lmTdfYqS05NC"
      }
    },
    {
      "cell_type": "code",
      "source": [
        "#remove\n",
        "s = {1, 2, 3}\n",
        "s.discard(2)   \n",
        "s.discard(4)"
      ],
      "metadata": {
        "id": "JrXhLXkM0sJX"
      },
      "execution_count": 17,
      "outputs": []
    },
    {
      "cell_type": "markdown",
      "source": [
        "# remove() method when you are sure that the element is in the set and you want to raise an error if it's not"
      ],
      "metadata": {
        "id": "fAYht6r91CXK"
      }
    },
    {
      "cell_type": "code",
      "source": [
        "#level2\n"
      ],
      "metadata": {
        "id": "VnU263gC1L9W"
      },
      "execution_count": null,
      "outputs": []
    },
    {
      "cell_type": "code",
      "source": [
        "A = {19, 22, 24, 20, 25, 26}\n",
        "B = {19, 22, 20, 25, 26, 24, 28, 27}\n",
        "C = A | B\n",
        "print(C)"
      ],
      "metadata": {
        "colab": {
          "base_uri": "https://localhost:8080/"
        },
        "id": "xeS55kAu1TVc",
        "outputId": "4e243cac-6f8c-4b96-dd39-993ff89a5693"
      },
      "execution_count": 19,
      "outputs": [
        {
          "output_type": "stream",
          "name": "stdout",
          "text": [
            "{19, 20, 22, 24, 25, 26, 27, 28}\n"
          ]
        }
      ]
    },
    {
      "cell_type": "code",
      "source": [
        "C = A.intersection(B)\n",
        "print(C)\n"
      ],
      "metadata": {
        "colab": {
          "base_uri": "https://localhost:8080/"
        },
        "id": "ChcqGrF411E1",
        "outputId": "7439e371-ed91-49b3-90f0-165c7504e7f3"
      },
      "execution_count": 21,
      "outputs": [
        {
          "output_type": "stream",
          "name": "stdout",
          "text": [
            "{19, 20, 22, 24, 25, 26}\n"
          ]
        }
      ]
    },
    {
      "cell_type": "code",
      "source": [
        "print(A.issubset(B))"
      ],
      "metadata": {
        "colab": {
          "base_uri": "https://localhost:8080/"
        },
        "id": "DU-lL3gV16kI",
        "outputId": "d47b600a-140e-4315-f2ae-5ef329eef7eb"
      },
      "execution_count": 22,
      "outputs": [
        {
          "output_type": "stream",
          "name": "stdout",
          "text": [
            "True\n"
          ]
        }
      ]
    },
    {
      "cell_type": "code",
      "source": [
        "print(A.isdisjoint(B))"
      ],
      "metadata": {
        "colab": {
          "base_uri": "https://localhost:8080/"
        },
        "id": "3s88jTuY2ben",
        "outputId": "b98a24c5-76fe-493e-d257-b54e97f59ec4"
      },
      "execution_count": 23,
      "outputs": [
        {
          "output_type": "stream",
          "name": "stdout",
          "text": [
            "False\n"
          ]
        }
      ]
    },
    {
      "cell_type": "code",
      "source": [
        "A = {19, 22, 24, 20, 25, 26}\n",
        "B = {19, 22, 20, 25, 26, 24, 28, 27}\n",
        "\n",
        "C=A.union(B)\n",
        "print('A UNION B:',C)\n",
        "\n",
        "D=B.union(A)\n",
        "print('B UNION A :',D)"
      ],
      "metadata": {
        "colab": {
          "base_uri": "https://localhost:8080/"
        },
        "id": "riZRlzS22jqd",
        "outputId": "d697d66a-e4c4-4f22-a4e5-df0a47e6adf3"
      },
      "execution_count": 26,
      "outputs": [
        {
          "output_type": "stream",
          "name": "stdout",
          "text": [
            "A UNION B: {19, 20, 22, 24, 25, 26, 27, 28}\n",
            "B UNION A : {19, 20, 22, 24, 25, 26, 27, 28}\n"
          ]
        }
      ]
    },
    {
      "cell_type": "code",
      "source": [
        "C=A^B\n",
        "print(C)"
      ],
      "metadata": {
        "colab": {
          "base_uri": "https://localhost:8080/"
        },
        "id": "XL0YfEk63Odw",
        "outputId": "6a076777-9362-4f94-8888-0f764ec42902"
      },
      "execution_count": 27,
      "outputs": [
        {
          "output_type": "stream",
          "name": "stdout",
          "text": [
            "{27, 28}\n"
          ]
        }
      ]
    },
    {
      "cell_type": "markdown",
      "source": [
        "# The symmetric difference of A and B is the same as the union of A and B with the intersection of A and B removed.\n"
      ],
      "metadata": {
        "id": "qKAnr64_3sm2"
      }
    },
    {
      "cell_type": "code",
      "source": [
        "del A \n",
        "del B"
      ],
      "metadata": {
        "id": "MOEMRZ3O3oic"
      },
      "execution_count": 28,
      "outputs": []
    },
    {
      "cell_type": "code",
      "source": [
        "#level 3\n"
      ],
      "metadata": {
        "id": "WYdo4ElP35gF"
      },
      "execution_count": null,
      "outputs": []
    },
    {
      "cell_type": "code",
      "source": [
        "ages = [10, 15, 20, 25, 30, 35, 40, 45, 50]\n",
        "ages_set = set(ages)\n",
        "\n",
        "print(\"Length of the list: \", len(ages))\n",
        "print(\"Length of the set: \", len(ages_set))\n",
        "\n",
        "if len(ages) > len(ages_set):\n",
        "    print(\"List is bigger than the set\")\n",
        "elif len(ages) < len(ages_set):\n",
        "    print(\"Set is bigger than the list\")\n",
        "else:\n",
        "    print(\"List and Set have the same length\")"
      ],
      "metadata": {
        "colab": {
          "base_uri": "https://localhost:8080/"
        },
        "id": "zWtbYNJO37F5",
        "outputId": "bdb7bd9d-1490-4a87-8dd2-facd3fcca8a2"
      },
      "execution_count": 30,
      "outputs": [
        {
          "output_type": "stream",
          "name": "stdout",
          "text": [
            "Length of the list:  9\n",
            "Length of the set:  9\n",
            "List and Set have the same length\n"
          ]
        }
      ]
    },
    {
      "cell_type": "markdown",
      "source": [
        "1.STRING: it can include letters , numbers and special characters and it is in round brackets().\n",
        "\n",
        "2.LIST: it can be of any data type and it is in square brackets[].\n",
        "\n",
        "3.TUPLE: it can store any data type but they cannot be modified and it is in round brackets().\n",
        "\n",
        "4.SET: it is used to set operations like union, intersection.etc and they are in curly brackets{}."
      ],
      "metadata": {
        "id": "-7z5QFJl42VN"
      }
    },
    {
      "cell_type": "code",
      "source": [
        "sent=\"I am a teacher and I love to inspire and teach people\"\n",
        "print(\"I am a teacher and I love to inspire and teach people\",sent.split())"
      ],
      "metadata": {
        "colab": {
          "base_uri": "https://localhost:8080/"
        },
        "id": "Ji6TgZL-4umU",
        "outputId": "a84c19af-9e55-4f2e-fe25-8eac6efc7582"
      },
      "execution_count": 34,
      "outputs": [
        {
          "output_type": "stream",
          "name": "stdout",
          "text": [
            "I am a teacher and I love to inspire and teach people ['I', 'am', 'a', 'teacher', 'and', 'I', 'love', 'to', 'inspire', 'and', 'teach', 'people']\n"
          ]
        }
      ]
    }
  ]
}