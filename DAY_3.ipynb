{
  "nbformat": 4,
  "nbformat_minor": 0,
  "metadata": {
    "colab": {
      "provenance": []
    },
    "kernelspec": {
      "name": "python3",
      "display_name": "Python 3"
    },
    "language_info": {
      "name": "python"
    }
  },
  "cells": [
    {
      "cell_type": "code",
      "execution_count": null,
      "metadata": {
        "colab": {
          "base_uri": "https://localhost:8080/"
        },
        "id": "fC9L9kTAMnbQ",
        "outputId": "3f8a88e1-5e53-4329-9472-12c0a14e6ade"
      },
      "outputs": [
        {
          "output_type": "stream",
          "name": "stdout",
          "text": [
            "20\n"
          ]
        }
      ],
      "source": [
        "Age='20'\n",
        "print(Age)"
      ]
    },
    {
      "cell_type": "code",
      "source": [
        "Height='151.5'\n",
        "print(Height)"
      ],
      "metadata": {
        "colab": {
          "base_uri": "https://localhost:8080/"
        },
        "id": "0QDKSvojPCH0",
        "outputId": "bd9bb2cf-dfea-4b5a-c172-7d045bcfbc96"
      },
      "execution_count": null,
      "outputs": [
        {
          "output_type": "stream",
          "name": "stdout",
          "text": [
            "151.5\n"
          ]
        }
      ]
    },
    {
      "cell_type": "code",
      "source": [
        "num=2+3j\n",
        "print(num)\n",
        "print(type(num))\n",
        "print('real part of complex number:')\n",
        "print(num.real)\n",
        "print('imaginary part of complex number:')\n",
        "print(num.imag)"
      ],
      "metadata": {
        "colab": {
          "base_uri": "https://localhost:8080/"
        },
        "id": "aBnJigdHPK47",
        "outputId": "bfd33184-7af4-479f-ea87-5f5cc224b4c1"
      },
      "execution_count": null,
      "outputs": [
        {
          "output_type": "stream",
          "name": "stdout",
          "text": [
            "(2+3j)\n",
            "<class 'complex'>\n",
            "real part of complex number:\n",
            "2.0\n",
            "imaginary part of complex number:\n",
            "3.0\n"
          ]
        }
      ]
    },
    {
      "cell_type": "code",
      "source": [
        "b=int(input(\"Enter base:\"))\n",
        "h=int(input(\"Enter height:\"))\n",
        "\n",
        "area_of_triangle = b*h*0.5\n",
        "print(area_of_triangle)"
      ],
      "metadata": {
        "colab": {
          "base_uri": "https://localhost:8080/"
        },
        "id": "8d9-u7k9RA2-",
        "outputId": "0eef2693-f6b1-46d0-fbff-8942c09f84b4"
      },
      "execution_count": null,
      "outputs": [
        {
          "output_type": "stream",
          "name": "stdout",
          "text": [
            "Enter base:20\n",
            "Enter height:10\n",
            "100.0\n"
          ]
        }
      ]
    },
    {
      "cell_type": "code",
      "source": [
        "a=int(input('Enter side a:'))\n",
        "b=int(input('Enter side b:'))\n",
        "c=int(input('Enter side c:'))\n",
        "\n",
        "perimeter_of_the_triangle= a+b+c\n",
        "print(perimeter_of_the_triangle)"
      ],
      "metadata": {
        "colab": {
          "base_uri": "https://localhost:8080/"
        },
        "id": "9hHDk42ITeif",
        "outputId": "eae760c8-f048-4151-aee9-1d7a0170353b"
      },
      "execution_count": null,
      "outputs": [
        {
          "output_type": "stream",
          "name": "stdout",
          "text": [
            "Enter side a:5\n",
            "Enter side b:4\n",
            "Enter side c:3\n",
            "12\n"
          ]
        }
      ]
    },
    {
      "cell_type": "code",
      "source": [
        "l=int(input('Enter length:'))\n",
        "w=int(input('Enter width:'))\n",
        "\n",
        "area= l*w\n",
        "perimeter=2*(l+w)\n",
        "print(area)\n",
        "print(perimeter)"
      ],
      "metadata": {
        "colab": {
          "base_uri": "https://localhost:8080/"
        },
        "id": "uExiY_YQUHcp",
        "outputId": "d20046f4-3e4b-48f6-c04e-dc71c7d82db8"
      },
      "execution_count": null,
      "outputs": [
        {
          "output_type": "stream",
          "name": "stdout",
          "text": [
            "Enter length:5\n",
            "Enter width:6\n",
            "30\n",
            "22\n"
          ]
        }
      ]
    },
    {
      "cell_type": "code",
      "source": [
        "r=int(input('Enter Radius of a circle:'))\n",
        "pi=(3.14)\n",
        "area=(pi*r*r)\n",
        "print('area_of_a_circle:',area)\n",
        "\n",
        "circumference=(2*pi*r)\n",
        "print('circumference_of_a_circle:',circumference)\n"
      ],
      "metadata": {
        "colab": {
          "base_uri": "https://localhost:8080/"
        },
        "id": "oFvK6n0HYa7d",
        "outputId": "afda3956-7bf4-45a8-8989-74109c2c78ba"
      },
      "execution_count": null,
      "outputs": [
        {
          "output_type": "stream",
          "name": "stdout",
          "text": [
            "Enter Radius of a circle:5\n",
            "area_of_a_circle: 78.5\n",
            "circumference_of_a_circle: 31.400000000000002\n"
          ]
        }
      ]
    },
    {
      "cell_type": "code",
      "source": [
        "def slope(x1,y1,x2,y2):\n",
        "  s=(y2-y1)/(x2-x1)\n",
        "  return s\n",
        "print('slope is:',slope(2,2,6,10))\n",
        "\n",
        "import math\n",
        "p=[2,2]\n",
        "q=[6,10]\n",
        "print('Euclidean distance is:',math.dist(p,q))\n"
      ],
      "metadata": {
        "colab": {
          "base_uri": "https://localhost:8080/"
        },
        "id": "Xzejv3oDZNSf",
        "outputId": "14436221-96ce-457e-d9b6-ae7b29136f73"
      },
      "execution_count": null,
      "outputs": [
        {
          "output_type": "stream",
          "name": "stdout",
          "text": [
            "slope is: 2.0\n",
            "Euclidean distance is: 8.94427190999916\n"
          ]
        }
      ]
    },
    {
      "cell_type": "code",
      "source": [
        "def calculate_y(x):\n",
        "  y=x**2+6*x+9\n",
        "  return y\n",
        "for x in range(5,-4):\n",
        "  y = calculate_y(x)\n",
        "  if y==0:\n",
        "     print (\"x=\",x,\"is a root of the equation\")\n",
        "  else:\n",
        "      print(\"for x=\",x,\",y=\",y)   \n",
        "\n",
        "\n",
        "\n",
        "\n"
      ],
      "metadata": {
        "id": "baVSi5WxkSmw"
      },
      "execution_count": null,
      "outputs": []
    },
    {
      "cell_type": "code",
      "source": [
        "\n",
        "\n",
        "len('python')>len('dragon')"
      ],
      "metadata": {
        "colab": {
          "base_uri": "https://localhost:8080/"
        },
        "id": "R2O67jTsmsz0",
        "outputId": "c8d6ccc7-c0c1-4569-e5a8-db0c37fe34fb"
      },
      "execution_count": null,
      "outputs": [
        {
          "output_type": "execute_result",
          "data": {
            "text/plain": [
              "False"
            ]
          },
          "metadata": {},
          "execution_count": 39
        }
      ]
    },
    {
      "cell_type": "code",
      "source": [
        "print('on' in 'python' and 'on' in 'dragon')\n",
        "\n"
      ],
      "metadata": {
        "colab": {
          "base_uri": "https://localhost:8080/"
        },
        "id": "93gzkae-pWiM",
        "outputId": "1b9c2804-368d-4c5e-d30d-ef8faf5e37a0"
      },
      "execution_count": null,
      "outputs": [
        {
          "output_type": "stream",
          "name": "stdout",
          "text": [
            "True\n"
          ]
        }
      ]
    },
    {
      "cell_type": "code",
      "source": [
        "print('jargon' in 'I hope this course is not full of jargon')"
      ],
      "metadata": {
        "colab": {
          "base_uri": "https://localhost:8080/"
        },
        "id": "JoKD4NdX98wh",
        "outputId": "809f5e52-277e-470d-be61-a2d40310f356"
      },
      "execution_count": null,
      "outputs": [
        {
          "output_type": "stream",
          "name": "stdout",
          "text": [
            "True\n"
          ]
        }
      ]
    },
    {
      "cell_type": "code",
      "source": [
        "print('on' not in 'python' and 'on'  not in 'dragon')"
      ],
      "metadata": {
        "colab": {
          "base_uri": "https://localhost:8080/"
        },
        "id": "RSVWEFtt-IQT",
        "outputId": "95618d1e-d2b9-46bc-f7e7-71a43f034956"
      },
      "execution_count": null,
      "outputs": [
        {
          "output_type": "stream",
          "name": "stdout",
          "text": [
            "False\n"
          ]
        }
      ]
    },
    {
      "cell_type": "code",
      "source": [
        "i=(len('python'))\n",
        "print(i)\n",
        "type(i)\n",
        "\n"
      ],
      "metadata": {
        "colab": {
          "base_uri": "https://localhost:8080/"
        },
        "id": "PG43g3oBAxbv",
        "outputId": "7b21741a-f666-4f5f-808e-73e697de180f"
      },
      "execution_count": null,
      "outputs": [
        {
          "output_type": "stream",
          "name": "stdout",
          "text": [
            "6\n"
          ]
        }
      ]
    },
    {
      "cell_type": "code",
      "source": [
        "float_i=float(i)\n",
        "type(float_i)"
      ],
      "metadata": {
        "colab": {
          "base_uri": "https://localhost:8080/"
        },
        "id": "8Q-coIDWCz79",
        "outputId": "20ad860c-0154-411a-b8e7-b7fe2a9cb837"
      },
      "execution_count": null,
      "outputs": [
        {
          "output_type": "execute_result",
          "data": {
            "text/plain": [
              "float"
            ]
          },
          "metadata": {},
          "execution_count": 61
        }
      ]
    },
    {
      "cell_type": "code",
      "source": [
        "str_i=str(i)\n",
        "type(str_i)"
      ],
      "metadata": {
        "colab": {
          "base_uri": "https://localhost:8080/"
        },
        "id": "AcWa82NZC8Xd",
        "outputId": "d81e73e2-d506-493f-f45e-36c118faa4a7"
      },
      "execution_count": null,
      "outputs": [
        {
          "output_type": "execute_result",
          "data": {
            "text/plain": [
              "str"
            ]
          },
          "metadata": {},
          "execution_count": 62
        }
      ]
    },
    {
      "cell_type": "code",
      "source": [
        "num = int(input(\"Enter a number: \"))\n",
        "if (num % 2) == 0:\n",
        "   print(num,\"is Even\")\n",
        "else:\n",
        "   print(num,\"is Odd\")"
      ],
      "metadata": {
        "colab": {
          "base_uri": "https://localhost:8080/"
        },
        "id": "uMwdQMHkDEW2",
        "outputId": "665d3f52-94d8-4605-c377-d04f77b286ae"
      },
      "execution_count": null,
      "outputs": [
        {
          "output_type": "stream",
          "name": "stdout",
          "text": [
            "Enter a number: 34\n",
            "34 is Even\n"
          ]
        }
      ]
    },
    {
      "cell_type": "code",
      "source": [
        "num = int(input(\"Enter a number: \"))\n",
        "if (num % 2) == 0:\n",
        "   print(num, \"is Even\")\n",
        "else:\n",
        "   print(num, \"is Odd\")"
      ],
      "metadata": {
        "colab": {
          "base_uri": "https://localhost:8080/"
        },
        "id": "yERKlZwFE5xL",
        "outputId": "1c355428-bfd8-4c77-971e-e4e51e1b6c6c"
      },
      "execution_count": null,
      "outputs": [
        {
          "output_type": "stream",
          "name": "stdout",
          "text": [
            "Enter a number: 45\n",
            "45 is Odd\n"
          ]
        }
      ]
    },
    {
      "cell_type": "code",
      "source": [
        "num_one=7\n",
        "num_two=3\n",
        "floor_division=(num_one//num_two)\n",
        "print(floor_division)\n",
        "print(type(floor_division))\n",
        "int(2.7)\n",
        "print(int(2.7))\n",
        "floor_division==int(2.7)"
      ],
      "metadata": {
        "colab": {
          "base_uri": "https://localhost:8080/"
        },
        "id": "c3INXOYoFRQV",
        "outputId": "901f9403-5aba-48cf-c555-fe7303557455"
      },
      "execution_count": null,
      "outputs": [
        {
          "output_type": "stream",
          "name": "stdout",
          "text": [
            "2\n",
            "<class 'int'>\n",
            "2\n"
          ]
        },
        {
          "output_type": "execute_result",
          "data": {
            "text/plain": [
              "True"
            ]
          },
          "metadata": {},
          "execution_count": 89
        }
      ]
    },
    {
      "cell_type": "code",
      "source": [
        "type('10')==type(10)"
      ],
      "metadata": {
        "colab": {
          "base_uri": "https://localhost:8080/"
        },
        "id": "lBoxYZm9IIYV",
        "outputId": "d691665c-c7c5-4ebd-c31e-b6103cb24186"
      },
      "execution_count": null,
      "outputs": [
        {
          "output_type": "execute_result",
          "data": {
            "text/plain": [
              "False"
            ]
          },
          "metadata": {},
          "execution_count": 93
        }
      ]
    },
    {
      "cell_type": "code",
      "source": [
        "float('9.8')==10"
      ],
      "metadata": {
        "colab": {
          "base_uri": "https://localhost:8080/"
        },
        "id": "bpY90kOGKXEG",
        "outputId": "70fbed1c-adbd-40a3-a60e-cb7d7ec1f13c"
      },
      "execution_count": null,
      "outputs": [
        {
          "output_type": "execute_result",
          "data": {
            "text/plain": [
              "False"
            ]
          },
          "metadata": {},
          "execution_count": 95
        }
      ]
    },
    {
      "cell_type": "code",
      "source": [
        "a=int(input('Enter hours:'))\n",
        "b=int(input('Enter rate per hour:'))\n",
        "amount=(a*b)\n",
        "print(amount)\n"
      ],
      "metadata": {
        "colab": {
          "base_uri": "https://localhost:8080/"
        },
        "id": "uEy6SAqXKr-_",
        "outputId": "cda4874c-e55d-427d-a5d2-1cad5b3cb2dc"
      },
      "execution_count": null,
      "outputs": [
        {
          "output_type": "stream",
          "name": "stdout",
          "text": [
            "Enter hours:40\n",
            "Enter rate per hour:28\n",
            "1120\n"
          ]
        }
      ]
    },
    {
      "cell_type": "code",
      "source": [
        "a=int(input('Enter number of years ypu have lived:'))\n",
        "number_of_seconds_lived=(a*365*24*60*60)\n",
        "print(number_of_seconds_lived)\n"
      ],
      "metadata": {
        "colab": {
          "base_uri": "https://localhost:8080/"
        },
        "id": "pnXI9cViLvec",
        "outputId": "3e08f332-a728-493a-fd0d-923b010fb441"
      },
      "execution_count": null,
      "outputs": [
        {
          "output_type": "stream",
          "name": "stdout",
          "text": [
            "Enter number of years ypu have lived:100\n",
            "3153600000\n"
          ]
        }
      ]
    },
    {
      "cell_type": "code",
      "source": [
        "x= int(input(\"please enter the number :\"))\n",
        "for i in range(1,x+1):\n",
        "  print(i,1,i**1,i**2, i**3)"
      ],
      "metadata": {
        "colab": {
          "base_uri": "https://localhost:8080/"
        },
        "id": "kaL6CalFNvMR",
        "outputId": "d17b3239-86ef-418a-b29d-3725078505b4"
      },
      "execution_count": null,
      "outputs": [
        {
          "output_type": "stream",
          "name": "stdout",
          "text": [
            "please enter the number :5\n",
            "1 1 1 1 1\n",
            "2 1 2 4 8\n",
            "3 1 3 9 27\n",
            "4 1 4 16 64\n",
            "5 1 5 25 125\n"
          ]
        }
      ]
    }
  ]
}