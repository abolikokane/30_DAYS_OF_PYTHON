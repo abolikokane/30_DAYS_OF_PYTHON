{
  "nbformat": 4,
  "nbformat_minor": 0,
  "metadata": {
    "colab": {
      "provenance": []
    },
    "kernelspec": {
      "name": "python3",
      "display_name": "Python 3"
    },
    "language_info": {
      "name": "python"
    }
  },
  "cells": [
    {
      "cell_type": "code",
      "execution_count": null,
      "metadata": {
        "colab": {
          "base_uri": "https://localhost:8080/"
        },
        "id": "HnRdIclgV80e",
        "outputId": "cd2ca00c-a5ca-47c7-9782-49041b585c8a"
      },
      "outputs": [
        {
          "output_type": "stream",
          "name": "stdout",
          "text": [
            "Enter your age:12\n",
            "You need to wait for 6 more years before you can drive.\n"
          ]
        }
      ],
      "source": [
        "#level1-1\n",
        "age= int(input('Enter your age:'))\n",
        "\n",
        "if age >= 18:\n",
        "     print('You are old enough to drive.')\n",
        "else:\n",
        "     print(\"You need to wait for \" + str(18 - age) + \" more years before you can drive.\")"
      ]
    },
    {
      "cell_type": "code",
      "source": [
        "#level-2\n",
        "my_age=25\n",
        "your_age=int(input('Enter your age:'))\n",
        "\n",
        "if my_age>=your_age:\n",
        "   age_diff=my_age-your_age\n",
        "   if age_diff == 1:\n",
        "        print(\"I am older than you by 1 year.\")\n",
        "   else:\n",
        "        print(\"I am older than you by \" + str(age_diff) + \" years.\")\n",
        "elif my_age < your_age:\n",
        "    age_diff = your_age - my_age\n",
        "    if age_diff == 1:\n",
        "        print(\"You are older than me by 1 year.\")\n",
        "    else:\n",
        "        print(\"You are older than me by \" + str(age_diff) + \" years.\")\n",
        "else:\n",
        "    print(\"We are the same age.\")\n",
        "\n",
        "\n",
        "   \n",
        "\n",
        "\n"
      ],
      "metadata": {
        "colab": {
          "base_uri": "https://localhost:8080/"
        },
        "id": "Zb2W6b4XcctV",
        "outputId": "5a873950-c6ff-41d4-ae22-9c8c8850f166"
      },
      "execution_count": null,
      "outputs": [
        {
          "output_type": "stream",
          "name": "stdout",
          "text": [
            "Enter your age:30\n",
            "You are older than me by 5 years.\n"
          ]
        }
      ]
    },
    {
      "cell_type": "code",
      "source": [
        "#level1-3\n",
        "from re import A\n",
        "a=int(input('Enter number one:'))\n",
        "b=int(input('Enter number two:'))\n",
        "\n",
        "if a > b:\n",
        "   print('a is greater than b.')\n",
        "elif a < b:\n",
        "    print('a is smaller than b.')\n",
        "else:\n",
        "    print('a is equal to b.')   "
      ],
      "metadata": {
        "colab": {
          "base_uri": "https://localhost:8080/"
        },
        "id": "LKxAGV_Qfdr_",
        "outputId": "2542a4b2-1df5-4aba-eb7e-bb4da1125474"
      },
      "execution_count": null,
      "outputs": [
        {
          "output_type": "stream",
          "name": "stdout",
          "text": [
            "Enter number one:4\n",
            "Enter number two:6\n",
            "a is smaller than b.\n"
          ]
        }
      ]
    },
    {
      "cell_type": "code",
      "source": [
        "#level2-1\n",
        "marks=int(input('Enter your marks:'))\n",
        "\n",
        "if marks >= 80 and marks <= 100:\n",
        "    print(\"Grade: A\")\n",
        "elif marks >= 70 and marks <= 89:\n",
        "    print(\"Grade: B\")\n",
        "elif marks >= 60 and marks <= 69:\n",
        "    print(\"Grade: C\")\n",
        "elif marks >= 50 and marks <= 59:\n",
        "    print(\"Grade: D\")\n",
        "elif marks >= 0 and marks <= 49:\n",
        "    print(\"Grade: F\")\n",
        "else:\n",
        "    print(\"Invalid score. Please enter a score between 0 and 100.\")\n",
        "\n"
      ],
      "metadata": {
        "colab": {
          "base_uri": "https://localhost:8080/"
        },
        "id": "AKEEVmiWhmV0",
        "outputId": "d570b5d5-7f6b-4197-f58e-1b327747cb3a"
      },
      "execution_count": null,
      "outputs": [
        {
          "output_type": "stream",
          "name": "stdout",
          "text": [
            "Enter your marks:90\n",
            "Grade: A\n"
          ]
        }
      ]
    },
    {
      "cell_type": "code",
      "source": [
        "#level2-2\n",
        "month=input('Enter the month:')\n",
        "if month in ('September','October','November'):\n",
        "   print('The season is Autumn')\n",
        "elif month in ('December','January','February'):\n",
        "   print('The Season is Winter')   \n",
        "elif month in ('March','April','May'):\n",
        "   print('The Season is Spring')\n",
        "elif month in ('June','July','August'): \n",
        "   print('The Season is Summer')\n",
        "else:\n",
        "   print('Invalid month.')        "
      ],
      "metadata": {
        "id": "h1ocq9bcj80f",
        "colab": {
          "base_uri": "https://localhost:8080/"
        },
        "outputId": "47ddded3-0b64-486e-e6ea-c99cdd546dfc"
      },
      "execution_count": 10,
      "outputs": [
        {
          "output_type": "stream",
          "name": "stdout",
          "text": [
            "Enter the month:June\n",
            "The Season is Summer\n"
          ]
        }
      ]
    },
    {
      "cell_type": "code",
      "source": [
        "fruits = ['banana', 'orange', 'mango', 'lemon']\n",
        "new_fruit='strawberry'\n",
        "if new_fruit not in fruits:\n",
        "   fruits.append(new_fruit)\n",
        "   print(fruits)\n",
        "else:\n",
        "   print('That fruit already exist in the list')"
      ],
      "metadata": {
        "colab": {
          "base_uri": "https://localhost:8080/"
        },
        "id": "gbA-wI6bRDNI",
        "outputId": "26144afd-fd12-4a82-9f5e-353964e8e6f1"
      },
      "execution_count": 13,
      "outputs": [
        {
          "output_type": "stream",
          "name": "stdout",
          "text": [
            "['banana', 'orange', 'mango', 'lemon', 'strawberry']\n"
          ]
        }
      ]
    },
    {
      "cell_type": "code",
      "source": [
        "#level 3\n",
        "person={\n",
        "    'first_name': 'Asabeneh',\n",
        "    'last_name': 'Yetayeh',\n",
        "    'age': 250,\n",
        "    'country': 'Finland',\n",
        "    'is_marred': True,\n",
        "    'skills': ['JavaScript', 'React', 'Node', 'MongoDB', 'Python'],\n",
        "    'address': {\n",
        "        'street': 'Space street',\n",
        "        'zipcode': '02210'\n",
        "    }\n",
        "    }\n",
        "print(person)\n"
      ],
      "metadata": {
        "colab": {
          "base_uri": "https://localhost:8080/"
        },
        "id": "VTr4a2OKUw3q",
        "outputId": "3f02c76f-0b33-4eb6-8c32-a2a61e39109a"
      },
      "execution_count": 15,
      "outputs": [
        {
          "output_type": "stream",
          "name": "stdout",
          "text": [
            "{'first_name': 'Asabeneh', 'last_name': 'Yetayeh', 'age': 250, 'country': 'Finland', 'is_marred': True, 'skills': ['JavaScript', 'React', 'Node', 'MongoDB', 'Python'], 'address': {'street': 'Space street', 'zipcode': '02210'}}\n"
          ]
        }
      ]
    },
    {
      "cell_type": "code",
      "source": [
        "if 'skills' in person:\n",
        "    skills = person['skills']\n",
        "    middle_index = len(skills) // 2\n",
        "    print(skills[middle_index])"
      ],
      "metadata": {
        "colab": {
          "base_uri": "https://localhost:8080/"
        },
        "id": "3D8m5xPSZRo7",
        "outputId": "2a01cfa2-ad2b-48d1-fec8-301800508796"
      },
      "execution_count": 21,
      "outputs": [
        {
          "output_type": "stream",
          "name": "stdout",
          "text": [
            "Node\n"
          ]
        }
      ]
    },
    {
      "cell_type": "code",
      "source": [
        "if 'skills' in person:\n",
        "    skills = person['skills']\n",
        "    print('Python')\n"
      ],
      "metadata": {
        "colab": {
          "base_uri": "https://localhost:8080/"
        },
        "id": "6gCFDmKBZ3Dp",
        "outputId": "040d4584-5a4f-4704-afa8-f7fe9a1930fe"
      },
      "execution_count": 23,
      "outputs": [
        {
          "output_type": "stream",
          "name": "stdout",
          "text": [
            "Python\n"
          ]
        }
      ]
    },
    {
      "cell_type": "code",
      "source": [
        "print(person)"
      ],
      "metadata": {
        "colab": {
          "base_uri": "https://localhost:8080/"
        },
        "id": "OUlc0GlReXrR",
        "outputId": "c88e6fa2-3e84-46e5-a46f-c6d10095f4c2"
      },
      "execution_count": 33,
      "outputs": [
        {
          "output_type": "stream",
          "name": "stdout",
          "text": [
            "{'first_name': 'Asabeneh', 'last_name': 'Yetayeh', 'age': 250, 'country': 'Finland', 'is_marred': True, 'skills': ['JavaScript', 'React', 'Node', 'MongoDB', 'Python'], 'address': {'street': 'Space street', 'zipcode': '02210'}}\n"
          ]
        }
      ]
    },
    {
      "cell_type": "code",
      "source": [
        "if 'skills' in person:\n",
        "    skills = set(person['skills'])\n",
        "    if skills.issubset ({'JavaScript','React' }):\n",
        "        print('He is a front end developer')\n",
        "    elif skills.issubset ({'Node', 'Python', 'MongoDB'}):\n",
        "        print('He is a backend developer')\n",
        "    elif skills.issubset({'React', 'Node' , 'MongoDB'}):\n",
        "        print('He is a fullstack developer')\n",
        "    else:\n",
        "        print('unknown title')\n",
        "  \n",
        "\n",
        "\n",
        "\n"
      ],
      "metadata": {
        "colab": {
          "base_uri": "https://localhost:8080/"
        },
        "id": "OFU4lBHiarFp",
        "outputId": "ea741930-1414-432e-fc77-b291233a0bba"
      },
      "execution_count": 37,
      "outputs": [
        {
          "output_type": "stream",
          "name": "stdout",
          "text": [
            "unknown title\n"
          ]
        }
      ]
    },
    {
      "cell_type": "code",
      "source": [
        "print(person)"
      ],
      "metadata": {
        "colab": {
          "base_uri": "https://localhost:8080/"
        },
        "id": "-XqTrT7EgSU8",
        "outputId": "5c8a87a9-68f3-47a7-b176-fb8d3cd1dc8d"
      },
      "execution_count": 42,
      "outputs": [
        {
          "output_type": "stream",
          "name": "stdout",
          "text": [
            "{'first_name': 'Asabeneh', 'last_name': 'Yetayeh', 'age': 250, 'country': 'Finland', 'is_marred': True, 'skills': ['JavaScript', 'React', 'Node', 'MongoDB', 'Python'], 'address': {'street': 'Space street', 'zipcode': '02210'}}\n"
          ]
        }
      ]
    },
    {
      "cell_type": "code",
      "source": [
        "if person['is_marred'] and person ['country'] == 'Finland':\n",
        "   print(f\"{person['first_name']} lives in {person['country']}. He is married.\")"
      ],
      "metadata": {
        "colab": {
          "base_uri": "https://localhost:8080/"
        },
        "id": "PmmV86PvdAbr",
        "outputId": "c602a76a-96c6-4301-cf9d-00131b898aba"
      },
      "execution_count": 44,
      "outputs": [
        {
          "output_type": "stream",
          "name": "stdout",
          "text": [
            "Asabeneh lives in Finland. He is married.\n"
          ]
        }
      ]
    }
  ]
}