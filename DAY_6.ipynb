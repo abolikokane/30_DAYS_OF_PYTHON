{
  "nbformat": 4,
  "nbformat_minor": 0,
  "metadata": {
    "colab": {
      "provenance": []
    },
    "kernelspec": {
      "name": "python3",
      "display_name": "Python 3"
    },
    "language_info": {
      "name": "python"
    }
  },
  "cells": [
    {
      "cell_type": "code",
      "execution_count": 2,
      "metadata": {
        "colab": {
          "base_uri": "https://localhost:8080/"
        },
        "id": "zyeM0mLdqpTZ",
        "outputId": "e552b388-76e7-4ffb-861d-7f7fa59fad82"
      },
      "outputs": [
        {
          "output_type": "stream",
          "name": "stdout",
          "text": [
            "\n"
          ]
        }
      ],
      "source": [
        "tuple=('')\n",
        "print(tuple)"
      ]
    },
    {
      "cell_type": "code",
      "source": [
        "tuple=('omkar','aniruddha','avadhoot','aditi','kirti')\n",
        "print(tuple)"
      ],
      "metadata": {
        "colab": {
          "base_uri": "https://localhost:8080/"
        },
        "id": "PhoGDjVHrCuS",
        "outputId": "f5e2ed7b-0e9d-421b-e716-4fe87f4a7332"
      },
      "execution_count": 3,
      "outputs": [
        {
          "output_type": "stream",
          "name": "stdout",
          "text": [
            "('omkar', 'aniruddha', 'avadhoot', 'aditi', 'kirti')\n"
          ]
        }
      ]
    },
    {
      "cell_type": "code",
      "source": [
        "tuple1=('omkar','aniruddha','avadhoot')\n",
        "tuple2=('aditi','kirti','vaishnavi','aishwarya')\n",
        "siblings= tuple1 + tuple2\n",
        "print('siblings:',siblings)"
      ],
      "metadata": {
        "colab": {
          "base_uri": "https://localhost:8080/"
        },
        "id": "7f5cXtwErTX7",
        "outputId": "d3a76819-13c6-4fe3-e23a-f0783a57877d"
      },
      "execution_count": 5,
      "outputs": [
        {
          "output_type": "stream",
          "name": "stdout",
          "text": [
            "siblings: ('omkar', 'aniruddha', 'avadhoot', 'aditi', 'kirti', 'vaishnavi', 'aishwarya')\n"
          ]
        }
      ]
    },
    {
      "cell_type": "code",
      "source": [
        "print(len(siblings))"
      ],
      "metadata": {
        "colab": {
          "base_uri": "https://localhost:8080/"
        },
        "id": "EddzdnKOr45g",
        "outputId": "b4650de2-6c48-414c-bae6-0606e3ccf426"
      },
      "execution_count": 6,
      "outputs": [
        {
          "output_type": "stream",
          "name": "stdout",
          "text": [
            "7\n"
          ]
        }
      ]
    },
    {
      "cell_type": "code",
      "source": [
        "father='shankar'\n",
        "mother='vaishali'\n",
        "family_members= siblings + (father , mother)\n",
        "print(family_members)"
      ],
      "metadata": {
        "colab": {
          "base_uri": "https://localhost:8080/"
        },
        "id": "wAe01SSjr9qx",
        "outputId": "d325cf94-9211-4d93-db25-ffb76daddd85"
      },
      "execution_count": 7,
      "outputs": [
        {
          "output_type": "stream",
          "name": "stdout",
          "text": [
            "('omkar', 'aniruddha', 'avadhoot', 'aditi', 'kirti', 'vaishnavi', 'aishwarya', 'shankar', 'vaishali')\n"
          ]
        }
      ]
    },
    {
      "cell_type": "code",
      "source": [
        "del family_members"
      ],
      "metadata": {
        "id": "Fr6nNo7RscRI"
      },
      "execution_count": 8,
      "outputs": []
    },
    {
      "cell_type": "code",
      "source": [
        "tuple1=('orange','apple')\n",
        "tuple2=('spanish','cabbage')\n",
        "tuple3=('milk','chicken')\n",
        "food_stuff_tp=tuple1+tuple2+tuple3\n",
        "print('food_stuff_tp:',food_stuff_tp)"
      ],
      "metadata": {
        "colab": {
          "base_uri": "https://localhost:8080/"
        },
        "id": "W8xGQkMFs8Ui",
        "outputId": "4eed3e1a-f541-474b-f940-f2988a6dedb6"
      },
      "execution_count": 11,
      "outputs": [
        {
          "output_type": "stream",
          "name": "stdout",
          "text": [
            "food_stuff_tp: ('orange', 'apple', 'spanish', 'cabbage', 'milk', 'chicken')\n"
          ]
        }
      ]
    },
    {
      "cell_type": "code",
      "source": [
        "food_stuff_tp=list(food_stuff_tp)\n",
        "print('food_stuff_tp:',food_stuff_tp)"
      ],
      "metadata": {
        "colab": {
          "base_uri": "https://localhost:8080/"
        },
        "id": "piM_nSJOuFGC",
        "outputId": "024784cd-4f20-422c-ccc1-a7dc9695f2a8"
      },
      "execution_count": 13,
      "outputs": [
        {
          "output_type": "stream",
          "name": "stdout",
          "text": [
            "food_stuff_tp: ['orange', 'apple', 'spanish', 'cabbage', 'milk', 'chicken']\n"
          ]
        }
      ]
    },
    {
      "cell_type": "code",
      "source": [
        "middle = len(food_stuff_tp) // 2\n",
        "middle_items = food_stuff_tp[middle-1:middle+2]\n",
        "\n",
        "print(middle_items)"
      ],
      "metadata": {
        "colab": {
          "base_uri": "https://localhost:8080/"
        },
        "id": "75wQEJDLunyN",
        "outputId": "16e9d273-488c-4d8f-8d46-503ad0ed9790"
      },
      "execution_count": 14,
      "outputs": [
        {
          "output_type": "stream",
          "name": "stdout",
          "text": [
            "['spanish', 'cabbage', 'milk']\n"
          ]
        }
      ]
    },
    {
      "cell_type": "code",
      "source": [
        "tuple1=('orange','apple')\n",
        "tuple2=('spanish','cabbage')\n",
        "tuple3=('milk','chicken')\n",
        "food_stuff_tp=tuple1+tuple2+tuple3\n",
        "print('food_stuff_tp:',food_stuff_tp)"
      ],
      "metadata": {
        "colab": {
          "base_uri": "https://localhost:8080/"
        },
        "id": "uJDNvBIjvbWz",
        "outputId": "97b29350-78ef-4310-e471-e814301dd1c2"
      },
      "execution_count": 16,
      "outputs": [
        {
          "output_type": "stream",
          "name": "stdout",
          "text": [
            "food_stuff_tp: ('orange', 'apple', 'spanish', 'cabbage', 'milk', 'chicken')\n"
          ]
        }
      ]
    },
    {
      "cell_type": "code",
      "source": [
        "first_two = food_stuff_tp[:2]\n",
        "last_two = food_stuff_tp[-2:]\n",
        "\n",
        "print('first_two:',first_two)\n",
        "print('last_two:',last_two)"
      ],
      "metadata": {
        "colab": {
          "base_uri": "https://localhost:8080/"
        },
        "id": "Xn5zlLRUvGEX",
        "outputId": "ea59cf5c-a3a8-4e09-8666-0e7f7cb51a15"
      },
      "execution_count": 20,
      "outputs": [
        {
          "output_type": "stream",
          "name": "stdout",
          "text": [
            "first_two: ('orange', 'apple')\n",
            "last_two: ('milk', 'chicken')\n"
          ]
        }
      ]
    },
    {
      "cell_type": "code",
      "source": [
        "del food_stuff_tp"
      ],
      "metadata": {
        "id": "c4hDoxwMv2G0"
      },
      "execution_count": 21,
      "outputs": []
    },
    {
      "cell_type": "code",
      "source": [
        "nordic_countries = ('Denmark', 'Finland','Iceland', 'Norway', 'Sweden')\n",
        "\n",
        "print('Estonia' in nordic_countries) \n",
        "\n",
        "print('Iceland' in nordic_countries) "
      ],
      "metadata": {
        "colab": {
          "base_uri": "https://localhost:8080/"
        },
        "id": "xxlyiclhwCSS",
        "outputId": "11239c65-05d1-42e8-bb9b-bd903446db9f"
      },
      "execution_count": 22,
      "outputs": [
        {
          "output_type": "stream",
          "name": "stdout",
          "text": [
            "False\n",
            "True\n"
          ]
        }
      ]
    }
  ]
}