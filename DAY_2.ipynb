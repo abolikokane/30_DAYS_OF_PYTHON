{
  "nbformat": 4,
  "nbformat_minor": 0,
  "metadata": {
    "colab": {
      "provenance": []
    },
    "kernelspec": {
      "name": "python3",
      "display_name": "Python 3"
    },
    "language_info": {
      "name": "python"
    }
  },
  "cells": [
    {
      "cell_type": "code",
      "execution_count": null,
      "metadata": {
        "colab": {
          "base_uri": "https://localhost:8080/"
        },
        "id": "aEXeHh2e1TDb",
        "outputId": "c998f770-8f41-434a-c64e-80190e763c3b"
      },
      "outputs": [
        {
          "output_type": "stream",
          "name": "stdout",
          "text": [
            "what is your name:aboli\n",
            "aboli\n",
            "<class 'str'>\n"
          ]
        }
      ],
      "source": [
        "#30_DAYS_OF_PYTHON\n",
        "#DAY2:30 DAYS OF PYTHON PROGRAMMING\n",
        "\n",
        "first_name= input('what is your name:')\n",
        "print(first_name)\n",
        "print(type(first_name))"
      ]
    },
    {
      "cell_type": "code",
      "source": [
        "last_name=input('what is your last name:')\n",
        "print(last_name)\n",
        "print(type(last_name))"
      ],
      "metadata": {
        "colab": {
          "base_uri": "https://localhost:8080/"
        },
        "id": "8Dm0lSzn4SSX",
        "outputId": "4f4c4e4f-aa62-464d-db4d-86337037856d"
      },
      "execution_count": null,
      "outputs": [
        {
          "output_type": "stream",
          "name": "stdout",
          "text": [
            "what is your last name:kokane\n",
            "kokane\n",
            "<class 'str'>\n"
          ]
        }
      ]
    },
    {
      "cell_type": "code",
      "source": [
        "full_name=input('what is your full name:')\n",
        "print(full_name)\n",
        "print(type(full_name))"
      ],
      "metadata": {
        "colab": {
          "base_uri": "https://localhost:8080/"
        },
        "id": "9PuuU7SG41XJ",
        "outputId": "7d499254-c13b-4ff8-e280-ee3b6137c1f8"
      },
      "execution_count": null,
      "outputs": [
        {
          "output_type": "stream",
          "name": "stdout",
          "text": [
            "what is your full name:aboli shankar kokane\n",
            "aboli shankar kokane\n",
            "<class 'str'>\n"
          ]
        }
      ]
    },
    {
      "cell_type": "code",
      "source": [
        "country=input('what is your country name:')\n",
        "print(country)\n",
        "print(type(country))\n"
      ],
      "metadata": {
        "id": "vn0JT--U5GJw"
      },
      "execution_count": null,
      "outputs": []
    },
    {
      "cell_type": "code",
      "source": [
        "city='mumbai'\n",
        "print(city)\n",
        "print(type(city))"
      ],
      "metadata": {
        "id": "8mU3cboU7smx"
      },
      "execution_count": null,
      "outputs": []
    },
    {
      "cell_type": "code",
      "source": [
        "age='23'\n",
        "print(age)\n",
        "print(type(age))"
      ],
      "metadata": {
        "id": "s4yKj77N8ozx"
      },
      "execution_count": null,
      "outputs": []
    },
    {
      "cell_type": "code",
      "source": [
        "year='2023'\n",
        "print(year)"
      ],
      "metadata": {
        "id": "raoJkWyN8v40"
      },
      "execution_count": null,
      "outputs": []
    },
    {
      "cell_type": "code",
      "source": [
        "is_married=True\n",
        "print(  is_married)\n",
        "print(type(is_married))"
      ],
      "metadata": {
        "id": "Afspfq7L9ViZ"
      },
      "execution_count": null,
      "outputs": []
    },
    {
      "cell_type": "code",
      "source": [
        "is_true=True\n",
        "print(is_true)"
      ],
      "metadata": {
        "id": "Gazl_Xcu-SOx"
      },
      "execution_count": null,
      "outputs": []
    },
    {
      "cell_type": "code",
      "source": [
        "is_light_on=True\n",
        "print(is_light_on)\n",
        "print(type(is_light_on))"
      ],
      "metadata": {
        "id": "SXCba6G9-adO"
      },
      "execution_count": null,
      "outputs": []
    },
    {
      "cell_type": "code",
      "source": [
        "len(first_name)"
      ],
      "metadata": {
        "id": "9lzey7erGmc7"
      },
      "execution_count": null,
      "outputs": []
    },
    {
      "cell_type": "code",
      "source": [
        "len(first_name)==len(last_name)"
      ],
      "metadata": {
        "id": "E-dcCDoXK8c6"
      },
      "execution_count": null,
      "outputs": []
    },
    {
      "cell_type": "code",
      "source": [
        "len(first_name)>len(last_name)"
      ],
      "metadata": {
        "id": "VBiogrNOLQeR"
      },
      "execution_count": null,
      "outputs": []
    },
    {
      "cell_type": "code",
      "source": [
        "len(first_name)<len(last_name)"
      ],
      "metadata": {
        "id": "PTfj_-MnLYR0"
      },
      "execution_count": null,
      "outputs": []
    },
    {
      "cell_type": "code",
      "source": [
        "num_one=5\n",
        "num_two=4\n",
        "variable_total=(num_one+num_two)\n",
        "print(variable_total)\n",
        "\n",
        "variable_diff=(num_one-num_two)\n",
        "print(variable_diff)\n",
        "\n",
        "variable_product=(num_one*num_two)\n",
        "print(variable_product)\n",
        "\n",
        "variable_division=(num_one/num_two)\n",
        "print(variable_division)\n",
        "\n",
        "variable_remainder=(num_one%num_two)\n",
        "print(variable_remainder)\n",
        "\n",
        "variable_exp=(num_one**num_two)\n",
        "print(variable_exp)\n",
        "\n",
        "variable_floor_division=(num_one//num_two)\n",
        "print(variable_floor_division)\n",
        "\n",
        "\n",
        "\n",
        "\n",
        "\n"
      ],
      "metadata": {
        "id": "dRN6xpu8R7Y7"
      },
      "execution_count": null,
      "outputs": []
    },
    {
      "cell_type": "code",
      "source": [
        "area_of_circle=3.14*30*30\n",
        "print(area_of_circle)"
      ],
      "metadata": {
        "id": "AYGpLeDUS0Zj"
      },
      "execution_count": null,
      "outputs": []
    },
    {
      "cell_type": "code",
      "source": [
        "circum_of_circle=2*3.14*30\n",
        "print(circum_of_circle)"
      ],
      "metadata": {
        "id": "82dAT2F5Vcx-"
      },
      "execution_count": null,
      "outputs": []
    },
    {
      "cell_type": "code",
      "source": [
        "radius = float(input('enter radius:'))\n",
        "area_of_circle = (3.14)*radius*radius\n",
        "print(area_of_circle)"
      ],
      "metadata": {
        "id": "kVZBahdNV2W4"
      },
      "execution_count": null,
      "outputs": []
    },
    {
      "cell_type": "code",
      "source": [
        "# importing \"keyword\" for keyword operations\n",
        "import keyword\n",
        "import keyword\n",
        "# initializing strings for testing while putting them in an array\n",
        "keys = [\"area\", \"circle\", \"aboli\", \"radius\", \"first_name\",\n",
        "\"last_name\", \"variable\", \"name\",\"import\",\"print\"]\n",
        " \n",
        "for i in range(len(keys)):\n",
        "     # checking which are keywords\n",
        "    if keyword.iskeyword(keys[i]):\n",
        "        print(keys[i] + \" is python keyword\")\n",
        "    else:\n",
        "        print(keys[i] + \" is not a python keyword\")"
      ],
      "metadata": {
        "id": "ItISGIpUXwCY"
      },
      "execution_count": null,
      "outputs": []
    }
  ]
}